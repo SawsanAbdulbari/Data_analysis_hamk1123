{
 "cells": [
  {
   "cell_type": "markdown",
   "metadata": {},
   "source": [
    "## If Statements Exercises (Selection structure)"
   ]
  },
  {
   "cell_type": "markdown",
   "metadata": {},
   "source": [
    "1. Two **Integer** variables"
   ]
  },
  {
   "cell_type": "code",
   "execution_count": 2,
   "metadata": {},
   "outputs": [],
   "source": [
    "num1 = 1 ; num2 = 5; num3 = 3"
   ]
  },
  {
   "cell_type": "code",
   "execution_count": 3,
   "metadata": {},
   "outputs": [
    {
     "name": "stdout",
     "output_type": "stream",
     "text": [
      "Number1 is NOT equal to number2\n"
     ]
    }
   ],
   "source": [
    "if num1 == num2:\n",
    "    print(\"Number1 is equal to number2\")\n",
    "elif num1 > num2:\n",
    "    print(\"Number1 is greater than number2\")\n",
    "elif num1 >= num2:\n",
    "    print(\"Number1 is greater or equal to number2\")\n",
    "elif num1 != num2:\n",
    "    print(\"Number1 is NOT equal to number2\")"
   ]
  },
  {
   "cell_type": "markdown",
   "metadata": {},
   "source": [
    "2. Three **Integer** variables"
   ]
  },
  {
   "cell_type": "code",
   "execution_count": 4,
   "metadata": {},
   "outputs": [
    {
     "name": "stdout",
     "output_type": "stream",
     "text": [
      "Number2 is greater than number3\n"
     ]
    }
   ],
   "source": [
    "if num1 == num2 == num3:\n",
    "    print(\"All numbers are equal\")\n",
    "elif num1 == num2 or num2 == num3:\n",
    "    print(\"Number1 and number2 are equal OR number2 and number3 are equal\")\n",
    "elif num1 > num2 and num1 > num3:\n",
    "    print(\"Number1 is greater than number2 AND number1 is greater than number3\")\n",
    "\n",
    "elif num1 > num2:\n",
    "    print(\"Number1 is greater than number2\")\n",
    "else:\n",
    "    if num2 > num3:\n",
    "        print(\"Number2 is greater than number3\")\n",
    "\n",
    "if num1 == num2:\n",
    "    print(\"Number1 and number2 are equal\")\n",
    "else:\n",
    "    if num1 == num3:\n",
    "        print(\"Number1 and number3 are equal\")"
   ]
  },
  {
   "cell_type": "markdown",
   "metadata": {},
   "source": [
    "3. **String**"
   ]
  },
  {
   "cell_type": "code",
   "execution_count": 10,
   "metadata": {},
   "outputs": [],
   "source": [
    "name1 = \"Linda\"; name2 = \"Lamia\"; name3 = \"Elina\""
   ]
  },
  {
   "cell_type": "code",
   "execution_count": 11,
   "metadata": {},
   "outputs": [
    {
     "name": "stdout",
     "output_type": "stream",
     "text": [
      "Name1 and name2 are Not equal\n"
     ]
    }
   ],
   "source": [
    "if name1.__eq__(name2):\n",
    "    print(\"Name1 and name2 are equal\")\n",
    "elif name1.__eq__(name3):\n",
    "    print(\"Name1 and name3 are equal.\")\n",
    "else:\n",
    "    print(\"Name1 and name2 are Not equal\")\n"
   ]
  }
 ],
 "metadata": {
  "kernelspec": {
   "display_name": "Python 3",
   "language": "python",
   "name": "python3"
  },
  "language_info": {
   "codemirror_mode": {
    "name": "ipython",
    "version": 3
   },
   "file_extension": ".py",
   "mimetype": "text/x-python",
   "name": "python",
   "nbconvert_exporter": "python",
   "pygments_lexer": "ipython3",
   "version": "3.11.5"
  }
 },
 "nbformat": 4,
 "nbformat_minor": 2
}
