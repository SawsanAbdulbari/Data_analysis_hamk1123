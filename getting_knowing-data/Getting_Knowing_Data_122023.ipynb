{
 "cells": [
  {
   "cell_type": "code",
   "execution_count": null,
   "metadata": {},
   "outputs": [],
   "source": [
    "# Import the libraries\n",
    "import pandas as pd\n",
    "\n",
    "# Import the dataset as well and create a dataframe named shopping\n",
    "shopping = pd.read_csv('shopping_behavior_updated.csv')"
   ]
  },
  {
   "cell_type": "code",
   "execution_count": null,
   "metadata": {},
   "outputs": [],
   "source": [
    "# Show first 10 rows\n",
    "shopping.head(10)"
   ]
  },
  {
   "cell_type": "code",
   "execution_count": null,
   "metadata": {},
   "outputs": [],
   "source": [
    "# Provide a summarized information on dataset shopping\n",
    "shopping.info()"
   ]
  },
  {
   "cell_type": "code",
   "execution_count": null,
   "metadata": {},
   "outputs": [],
   "source": [
    "# Print out number of rows and columns in the DataFrame\n",
    "print(shopping.shape)"
   ]
  },
  {
   "cell_type": "code",
   "execution_count": null,
   "metadata": {},
   "outputs": [],
   "source": [
    "# Print out number of columns in the dataframe\n",
    "print(f\"\\nAmount of columns is {shopping.shape[1]}\")"
   ]
  },
  {
   "cell_type": "code",
   "execution_count": null,
   "metadata": {},
   "outputs": [],
   "source": [
    "# Print out all column names\n",
    "shopping.columns"
   ]
  },
  {
   "cell_type": "code",
   "execution_count": null,
   "metadata": {},
   "outputs": [],
   "source": [
    "# Print out index labels in the DataFrame\n",
    "print(shopping.index)\n",
    "\n",
    "# And a snippet of the values inside the dataset\n",
    "print(shopping.values)"
   ]
  },
  {
   "cell_type": "code",
   "execution_count": null,
   "metadata": {},
   "outputs": [],
   "source": [
    "# Data types of columns\n",
    "column_data_types = shopping.dtypes\n",
    "print(column_data_types)\n",
    "\n",
    "# Data type of one column\n",
    "column_data_type = shopping['Review Rating'].dtype;column_data_type\n"
   ]
  },
  {
   "cell_type": "code",
   "execution_count": null,
   "metadata": {},
   "outputs": [],
   "source": [
    "# Sorting the rows with Review Rating\n",
    "shopping.sort_values(\"Review Rating\")"
   ]
  },
  {
   "cell_type": "code",
   "execution_count": null,
   "metadata": {},
   "outputs": [],
   "source": [
    "# Repeated with ascending order\n",
    "shopping.sort_values(\"Review Rating\", ascending=False)"
   ]
  },
  {
   "cell_type": "code",
   "execution_count": null,
   "metadata": {},
   "outputs": [],
   "source": [
    "# Sorting by many columns\n",
    "shopping.sort_values([\"Age\", \"Review Rating\"])"
   ]
  },
  {
   "cell_type": "code",
   "execution_count": null,
   "metadata": {},
   "outputs": [],
   "source": [
    "# Sorting same columns, with ascending and descending orders\n",
    "shopping.sort_values([\"Age\", \"Review Rating\"], ascending=[True, False])"
   ]
  },
  {
   "cell_type": "code",
   "execution_count": null,
   "metadata": {},
   "outputs": [],
   "source": [
    "# Subsetting one column\n",
    "subset_df = shopping[\"Review Rating\"]\n",
    "print(subset_df)"
   ]
  },
  {
   "cell_type": "code",
   "execution_count": null,
   "metadata": {},
   "outputs": [],
   "source": [
    "# Subsetting many columns\n",
    "subset_df_3 = shopping[[\"Review Rating\", \"Age\", \"Gender\"]]\n",
    "print(subset_df_3)"
   ]
  },
  {
   "cell_type": "code",
   "execution_count": null,
   "metadata": {},
   "outputs": [],
   "source": [
    "# Subsetting rows, where Review Rating is at least 4\n",
    "subset_df_2 = shopping[shopping['Review Rating'] > 4]\n",
    "print(subset_df_2)\n",
    "\n"
   ]
  },
  {
   "cell_type": "code",
   "execution_count": null,
   "metadata": {},
   "outputs": [],
   "source": [
    "# Subsetting based on text data.\n",
    "subset_df = shopping[shopping['Gender'] == \"Female\"]\n",
    "subset_df.head(10)"
   ]
  },
  {
   "cell_type": "code",
   "execution_count": null,
   "metadata": {},
   "outputs": [],
   "source": [
    "# subsetting with mulitple conditions\n",
    "subset_df_4 = shopping['Review Rating'] > 4\n",
    "subset_df_5 = shopping['Gender'] == \"Female\"\n",
    "subset_df_6 = shopping[subset_df_4 & subset_df_5]\n",
    "subset_df_6.head()"
   ]
  },
  {
   "cell_type": "code",
   "execution_count": null,
   "metadata": {},
   "outputs": [],
   "source": [
    "# Getting the datatype of wanted column\n",
    "print(shopping['Review Rating'].dtype)"
   ]
  },
  {
   "cell_type": "code",
   "execution_count": null,
   "metadata": {},
   "outputs": [],
   "source": [
    "# To test changing the datatype of wanted column, lets use Review Rating for this (Not appropriate in real use cases, as int64 removes decimals which have impact in this column)\n",
    "shopping['Review Rating'] = shopping['Review Rating'].astype('int64')\n",
    "# Check to see the change.\n",
    "print(shopping['Review Rating'].dtype)"
   ]
  },
  {
   "cell_type": "code",
   "execution_count": null,
   "metadata": {},
   "outputs": [],
   "source": [
    "# Creating a new column 'Total Sales' where 'Previous Purchases' and 'Purchase Amount (USD)' are summated\n",
    "shopping['Total Sales'] = shopping['Previous Purchases'] * shopping['Purchase Amount (USD)']"
   ]
  },
  {
   "cell_type": "code",
   "execution_count": null,
   "metadata": {},
   "outputs": [],
   "source": [
    "# first lets create a function to define Review Rating values as text\n",
    "def categorize_review(Review_Rating):\n",
    "    if Review_Rating <= 2:\n",
    "        return 'Low'\n",
    "    elif Review_Rating <= 4:\n",
    "        return 'Medium'\n",
    "    else:\n",
    "        return 'High'\n",
    "# Using the .apply() method to create a new column 'Rating Class' based on the 'Review Rating' column\n",
    "shopping['Rating Class'] = shopping['Review Rating'].apply(categorize_review)\n",
    "shopping.head()"
   ]
  }
 ],
 "metadata": {
  "kernelspec": {
   "display_name": "Python 3",
   "language": "python",
   "name": "python3"
  },
  "language_info": {
   "codemirror_mode": {
    "name": "ipython",
    "version": 3
   },
   "file_extension": ".py",
   "mimetype": "text/x-python",
   "name": "python",
   "nbconvert_exporter": "python",
   "pygments_lexer": "ipython3",
   "version": "3.12.0"
  },
  "orig_nbformat": 4
 },
 "nbformat": 4,
 "nbformat_minor": 2
}
