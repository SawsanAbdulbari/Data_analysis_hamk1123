{
 "cells": [
  {
   "cell_type": "markdown",
   "metadata": {},
   "source": [
    "### Guessing Game Exercise"
   ]
  },
  {
   "cell_type": "code",
   "execution_count": 22,
   "metadata": {},
   "outputs": [],
   "source": [
    "def isEnough():\n",
    "    answer = input(\"Do you want to quit (y, n)?\")\n",
    "    return answer.lower() == 'y'"
   ]
  },
  {
   "cell_type": "code",
   "execution_count": 23,
   "metadata": {},
   "outputs": [
    {
     "name": "stdout",
     "output_type": "stream",
     "text": [
      "jhjh\n",
      "Try again.\n",
      " Guesses : 1\n",
      "khjkjh\n",
      "Try again.\n",
      " Guesses : 2\n",
      "jkhdfJS\n",
      "Try again.\n",
      " Guesses : 3\n",
      "Y\n",
      "Try again.\n",
      " Guesses : 4\n",
      "Game over! You guessed 4 times.\n"
     ]
    }
   ],
   "source": [
    "def gussing_game():\n",
    "    count = 0\n",
    "    myName = \"Sawsan\"\n",
    "    hint = \"\"\n",
    "\n",
    "    while True:\n",
    "        s = input(f\"Please guess my name (Hint: {hint}) \")\n",
    "\n",
    "        if s == myName:\n",
    "            print(\"Congratulation!\")\n",
    "            print(f\"Guesses : {count}\")\n",
    "            break\n",
    "\n",
    "        else:\n",
    "            print(s)\n",
    "            count +=1\n",
    "            if count <= len(myName):\n",
    "                hint += myName[count -1]\n",
    "            else:\n",
    "                hint += '-'\n",
    "            print(f\"Try again.\\n Guesses : {count}\")\n",
    "            \n",
    "        if isEnough ():\n",
    "            print(f\"Game over! You guessed {count} times.\")\n",
    "            break\n",
    "gussing_game()"
   ]
  }
 ],
 "metadata": {
  "kernelspec": {
   "display_name": "Python 3",
   "language": "python",
   "name": "python3"
  },
  "language_info": {
   "codemirror_mode": {
    "name": "ipython",
    "version": 3
   },
   "file_extension": ".py",
   "mimetype": "text/x-python",
   "name": "python",
   "nbconvert_exporter": "python",
   "pygments_lexer": "ipython3",
   "version": "3.11.5"
  }
 },
 "nbformat": 4,
 "nbformat_minor": 2
}
